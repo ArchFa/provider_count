{
 "cells": [
  {
   "cell_type": "code",
   "execution_count": 1,
   "metadata": {},
   "outputs": [],
   "source": [
    "import pandas as pd\n",
    "import streamlit as st\n",
    "from collections import Counter\n",
    "from PIL import Image"
   ]
  },
  {
   "cell_type": "code",
   "execution_count": 2,
   "metadata": {},
   "outputs": [
    {
     "ename": "FileNotFoundError",
     "evalue": "[Errno 2] No such file or directory: './logo_ugry.png'",
     "output_type": "error",
     "traceback": [
      "\u001b[0;31m---------------------------------------------------------------------------\u001b[0m",
      "\u001b[0;31mFileNotFoundError\u001b[0m                         Traceback (most recent call last)",
      "\u001b[1;32m/Users/arturfattahov/provider_count/main.ipynb Cell 2'\u001b[0m in \u001b[0;36m<module>\u001b[0;34m\u001b[0m\n\u001b[0;32m----> <a href='vscode-notebook-cell:/Users/arturfattahov/provider_count/main.ipynb#ch0000001?line=0'>1</a>\u001b[0m im \u001b[39m=\u001b[39m Image\u001b[39m.\u001b[39;49mopen(\u001b[39m\"\u001b[39;49m\u001b[39m./logo_ugry.png\u001b[39;49m\u001b[39m\"\u001b[39;49m)\n\u001b[1;32m      <a href='vscode-notebook-cell:/Users/arturfattahov/provider_count/main.ipynb#ch0000001?line=1'>2</a>\u001b[0m st\u001b[39m.\u001b[39mset_page_config(page_title\u001b[39m=\u001b[39m\u001b[39m\"\u001b[39m\u001b[39mКоличество созданных задач\u001b[39m\u001b[39m\"\u001b[39m, page_icon\u001b[39m=\u001b[39mim)\n",
      "File \u001b[0;32m/Library/Frameworks/Python.framework/Versions/3.10/lib/python3.10/site-packages/PIL/Image.py:2953\u001b[0m, in \u001b[0;36mopen\u001b[0;34m(fp, mode, formats)\u001b[0m\n\u001b[1;32m   <a href='file:///Library/Frameworks/Python.framework/Versions/3.10/lib/python3.10/site-packages/PIL/Image.py?line=2949'>2950</a>\u001b[0m     filename \u001b[39m=\u001b[39m fp\n\u001b[1;32m   <a href='file:///Library/Frameworks/Python.framework/Versions/3.10/lib/python3.10/site-packages/PIL/Image.py?line=2951'>2952</a>\u001b[0m \u001b[39mif\u001b[39;00m filename:\n\u001b[0;32m-> <a href='file:///Library/Frameworks/Python.framework/Versions/3.10/lib/python3.10/site-packages/PIL/Image.py?line=2952'>2953</a>\u001b[0m     fp \u001b[39m=\u001b[39m builtins\u001b[39m.\u001b[39;49mopen(filename, \u001b[39m\"\u001b[39;49m\u001b[39mrb\u001b[39;49m\u001b[39m\"\u001b[39;49m)\n\u001b[1;32m   <a href='file:///Library/Frameworks/Python.framework/Versions/3.10/lib/python3.10/site-packages/PIL/Image.py?line=2953'>2954</a>\u001b[0m     exclusive_fp \u001b[39m=\u001b[39m \u001b[39mTrue\u001b[39;00m\n\u001b[1;32m   <a href='file:///Library/Frameworks/Python.framework/Versions/3.10/lib/python3.10/site-packages/PIL/Image.py?line=2955'>2956</a>\u001b[0m \u001b[39mtry\u001b[39;00m:\n",
      "\u001b[0;31mFileNotFoundError\u001b[0m: [Errno 2] No such file or directory: './logo_ugry.png'"
     ]
    }
   ],
   "source": [
    "im = Image.open(\"./logo_ugry.png\")\n",
    "st.set_page_config(page_title=\"Количество созданных задач\", page_icon=im)"
   ]
  },
  {
   "cell_type": "code",
   "execution_count": 3,
   "metadata": {},
   "outputs": [
    {
     "name": "stderr",
     "output_type": "stream",
     "text": [
      "2022-04-26 12:10:15.948 \n",
      "  \u001b[33m\u001b[1mWarning:\u001b[0m to view this Streamlit app on a browser, run it with the following\n",
      "  command:\n",
      "\n",
      "    streamlit run /Users/arturfattahov/Library/Python/3.10/lib/python/site-packages/ipykernel_launcher.py [ARGUMENTS]\n"
     ]
    },
    {
     "ename": "StopException",
     "evalue": "",
     "output_type": "error",
     "traceback": [
      "\u001b[0;31m---------------------------------------------------------------------------\u001b[0m",
      "\u001b[0;31mStopException\u001b[0m                             Traceback (most recent call last)",
      "\u001b[1;32m/Users/arturfattahov/provider_count/main.ipynb Cell 3'\u001b[0m in \u001b[0;36m<module>\u001b[0;34m\u001b[0m\n\u001b[1;32m     <a href='vscode-notebook-cell:/Users/arturfattahov/provider_count/main.ipynb#ch0000002?line=30'>31</a>\u001b[0m \u001b[39melse\u001b[39;00m:\n\u001b[1;32m     <a href='vscode-notebook-cell:/Users/arturfattahov/provider_count/main.ipynb#ch0000002?line=31'>32</a>\u001b[0m     st\u001b[39m.\u001b[39minfo(\n\u001b[1;32m     <a href='vscode-notebook-cell:/Users/arturfattahov/provider_count/main.ipynb#ch0000002?line=32'>33</a>\u001b[0m         \u001b[39mf\u001b[39m\u001b[39m\"\"\"\u001b[39m\n\u001b[1;32m     <a href='vscode-notebook-cell:/Users/arturfattahov/provider_count/main.ipynb#ch0000002?line=33'>34</a>\u001b[0m \u001b[39m             👆 Загрузите файл с расширением csv. В файле должны стого содержаться следующие столбцы:\u001b[39m\n\u001b[0;32m   (...)\u001b[0m\n\u001b[1;32m     <a href='vscode-notebook-cell:/Users/arturfattahov/provider_count/main.ipynb#ch0000002?line=39'>40</a>\u001b[0m \u001b[39m             \u001b[39m\u001b[39m\"\"\"\u001b[39m\n\u001b[1;32m     <a href='vscode-notebook-cell:/Users/arturfattahov/provider_count/main.ipynb#ch0000002?line=40'>41</a>\u001b[0m     )\n\u001b[0;32m---> <a href='vscode-notebook-cell:/Users/arturfattahov/provider_count/main.ipynb#ch0000002?line=41'>42</a>\u001b[0m     st\u001b[39m.\u001b[39;49mstop()\n",
      "File \u001b[0;32m/Library/Frameworks/Python.framework/Versions/3.10/lib/python3.10/site-packages/streamlit/__init__.py:492\u001b[0m, in \u001b[0;36mstop\u001b[0;34m()\u001b[0m\n\u001b[1;32m    <a href='file:///Library/Frameworks/Python.framework/Versions/3.10/lib/python3.10/site-packages/streamlit/__init__.py?line=474'>475</a>\u001b[0m \u001b[39mdef\u001b[39;00m \u001b[39mstop\u001b[39m() \u001b[39m-\u001b[39m\u001b[39m>\u001b[39m NoReturn:\n\u001b[1;32m    <a href='file:///Library/Frameworks/Python.framework/Versions/3.10/lib/python3.10/site-packages/streamlit/__init__.py?line=475'>476</a>\u001b[0m     \u001b[39m\"\"\"Stops execution immediately.\u001b[39;00m\n\u001b[1;32m    <a href='file:///Library/Frameworks/Python.framework/Versions/3.10/lib/python3.10/site-packages/streamlit/__init__.py?line=476'>477</a>\u001b[0m \n\u001b[1;32m    <a href='file:///Library/Frameworks/Python.framework/Versions/3.10/lib/python3.10/site-packages/streamlit/__init__.py?line=477'>478</a>\u001b[0m \u001b[39m    Streamlit will not run any statements after `st.stop()`.\u001b[39;00m\n\u001b[0;32m   (...)\u001b[0m\n\u001b[1;32m    <a href='file:///Library/Frameworks/Python.framework/Versions/3.10/lib/python3.10/site-packages/streamlit/__init__.py?line=489'>490</a>\u001b[0m \n\u001b[1;32m    <a href='file:///Library/Frameworks/Python.framework/Versions/3.10/lib/python3.10/site-packages/streamlit/__init__.py?line=490'>491</a>\u001b[0m \u001b[39m    \"\"\"\u001b[39;00m\n\u001b[0;32m--> <a href='file:///Library/Frameworks/Python.framework/Versions/3.10/lib/python3.10/site-packages/streamlit/__init__.py?line=491'>492</a>\u001b[0m     \u001b[39mraise\u001b[39;00m StopException()\n",
      "\u001b[0;31mStopException\u001b[0m: "
     ]
    }
   ],
   "source": [
    "st.title(\"Информация о провайдерах\")\n",
    "st.write(\"Количество провайдеров с откликом, процент таких провайдеров\")\n",
    "uploaded_file = st.file_uploader(\"Выбирете файл\")\n",
    "\n",
    "use_example_file = st.checkbox(\n",
    "    \"Использовать пример выгрузки\", False, help=\"Будет использована старая выгрузка\"\n",
    ")\n",
    "\n",
    "\n",
    "if use_example_file:\n",
    "    uploaded_file = \"offers_referral_codes_2021_09_15__2022_03_15.csv\"\n",
    "\n",
    "\n",
    "if uploaded_file is not None:\n",
    "     df = pd.read_csv(uploaded_file, sep='|')\n",
    "     df.columns=[\n",
    "         'phone',\n",
    "         'count_responds',\n",
    "         'count_pre_matched',\n",
    "         'count_accepted']\n",
    "\n",
    "     # изменение типов\n",
    "     df['count_responds'] = df['count_responds'].fillna(0).astype('int32')\n",
    "     df['count_pre_matched'] = df['count_pre_matched'].fillna(0).astype('int32')\n",
    "     df['count_accepted'] = df['count_accepted'].fillna(0).astype('int32')\n",
    "\n",
    "     # удвление тестовых номеров, которые начинаются на 520...\n",
    "     df = df[~df.phone.str.contains('1000')]\n",
    "     df = df[~df.phone.str.contains('5200')]\n",
    "     df = df[~df.phone.str.contains('052')]\n",
    "\n",
    "     # удаление пропусков, которые появляются из за особенностей выгрузки\n",
    "     df = df.dropna()\n",
    "     file_container = st.expander(\"Check your uploaded .csv\")   \n",
    "     st.markdown(\"### Обзор выгрузки\")\n",
    "     st.dataframe(df.head())\n",
    "\n",
    "st.info(\n",
    "    f\"\"\"\n",
    "         👆 Загрузите файл с расширением csv. В файле должны стого содержаться следующие столбцы:\n",
    "         - id задачи, название задачи\n",
    "         - текущий статус задачи\n",
    "         - выбранный способ связи в приложении\n",
    "         - дата создания задачи в формате ГГГГ-ММ-ДД\n",
    "         - телефон заказчика\n",
    "         \"\"\"\n",
    ")\n",
    "\n",
    "if not uploaded_file or not use_example_file:\n",
    "        st.stop()"
   ]
  },
  {
   "cell_type": "code",
   "execution_count": 4,
   "metadata": {},
   "outputs": [],
   "source": [
    "st.write(\"\"\"\n",
    "**Поля датафрейма:**\n",
    "- phone - телефон провайдера;\n",
    "- count_responds - количество откликов у провайдера за период;\n",
    "- count_pre_matched - количество прематчей у провайдера за период;\n",
    "- count_accepted - количество матчей у провайдера за период;\n",
    "\"\"\")"
   ]
  },
  {
   "cell_type": "code",
   "execution_count": 6,
   "metadata": {},
   "outputs": [],
   "source": [
    "st.write(\"# Рассчеты\")"
   ]
  },
  {
   "cell_type": "code",
   "execution_count": 7,
   "metadata": {},
   "outputs": [
    {
     "ename": "NameError",
     "evalue": "name 'df' is not defined",
     "output_type": "error",
     "traceback": [
      "\u001b[0;31m---------------------------------------------------------------------------\u001b[0m",
      "\u001b[0;31mNameError\u001b[0m                                 Traceback (most recent call last)",
      "\u001b[1;32m/Users/arturfattahov/provider_count/main.ipynb Cell 6'\u001b[0m in \u001b[0;36m<module>\u001b[0;34m\u001b[0m\n\u001b[0;32m----> <a href='vscode-notebook-cell:/Users/arturfattahov/provider_count/main.ipynb#ch0000005?line=0'>1</a>\u001b[0m st\u001b[39m.\u001b[39mwrite(\u001b[39m'\u001b[39m\u001b[39mВсего провайдеров:\u001b[39m\u001b[39m'\u001b[39m ,df[\u001b[39m'\u001b[39m\u001b[39mphone\u001b[39m\u001b[39m'\u001b[39m]\u001b[39m.\u001b[39mnunique())\n",
      "\u001b[0;31mNameError\u001b[0m: name 'df' is not defined"
     ]
    }
   ],
   "source": [
    "st.write('Всего провайдеров:' ,df['phone'].nunique())"
   ]
  },
  {
   "cell_type": "code",
   "execution_count": 8,
   "metadata": {},
   "outputs": [
    {
     "ename": "NameError",
     "evalue": "name 'df' is not defined",
     "output_type": "error",
     "traceback": [
      "\u001b[0;31m---------------------------------------------------------------------------\u001b[0m",
      "\u001b[0;31mNameError\u001b[0m                                 Traceback (most recent call last)",
      "\u001b[1;32m/Users/arturfattahov/provider_count/main.ipynb Cell 7'\u001b[0m in \u001b[0;36m<module>\u001b[0;34m\u001b[0m\n\u001b[0;32m----> <a href='vscode-notebook-cell:/Users/arturfattahov/provider_count/main.ipynb#ch0000006?line=0'>1</a>\u001b[0m st\u001b[39m.\u001b[39mwrite(\u001b[39m'\u001b[39m\u001b[39mПровайдеры, которые оставили хотя бы один отклик:\u001b[39m\u001b[39m'\u001b[39m ,df\u001b[39m.\u001b[39mquery(\u001b[39m'\u001b[39m\u001b[39mcount_responds > 0\u001b[39m\u001b[39m'\u001b[39m)\u001b[39m.\u001b[39mcount()[\u001b[39m0\u001b[39m])\n",
      "\u001b[0;31mNameError\u001b[0m: name 'df' is not defined"
     ]
    }
   ],
   "source": [
    "st.write('Провайдеры, которые оставили хотя бы один отклик:' ,df.query('count_responds > 0').count()[0])"
   ]
  },
  {
   "cell_type": "code",
   "execution_count": 9,
   "metadata": {},
   "outputs": [
    {
     "ename": "NameError",
     "evalue": "name 'df' is not defined",
     "output_type": "error",
     "traceback": [
      "\u001b[0;31m---------------------------------------------------------------------------\u001b[0m",
      "\u001b[0;31mNameError\u001b[0m                                 Traceback (most recent call last)",
      "\u001b[1;32m/Users/arturfattahov/provider_count/main.ipynb Cell 8'\u001b[0m in \u001b[0;36m<module>\u001b[0;34m\u001b[0m\n\u001b[1;32m      <a href='vscode-notebook-cell:/Users/arturfattahov/provider_count/main.ipynb#ch0000007?line=0'>1</a>\u001b[0m st\u001b[39m.\u001b[39mwrite(\u001b[39m'\u001b[39m\u001b[39mПроцент провайдеров, которые оставили отклик: \u001b[39m\u001b[39m'\u001b[39m,\n\u001b[0;32m----> <a href='vscode-notebook-cell:/Users/arturfattahov/provider_count/main.ipynb#ch0000007?line=1'>2</a>\u001b[0m \u001b[39mround\u001b[39m(df\u001b[39m.\u001b[39mquery(\u001b[39m'\u001b[39m\u001b[39mcount_responds > 0\u001b[39m\u001b[39m'\u001b[39m)\u001b[39m.\u001b[39mcount()[\u001b[39m0\u001b[39m] \u001b[39m*\u001b[39m \u001b[39m100\u001b[39m \u001b[39m/\u001b[39m df[\u001b[39m'\u001b[39m\u001b[39mphone\u001b[39m\u001b[39m'\u001b[39m]\u001b[39m.\u001b[39mnunique(), \u001b[39m2\u001b[39m))\n",
      "\u001b[0;31mNameError\u001b[0m: name 'df' is not defined"
     ]
    }
   ],
   "source": [
    "st.write('Процент провайдеров, которые оставили отклик: ',\n",
    "    round(df.query('count_responds > 0').count()[0] * 100 / df['phone'].nunique(), 2))"
   ]
  },
  {
   "cell_type": "code",
   "execution_count": 10,
   "metadata": {},
   "outputs": [
    {
     "ename": "NameError",
     "evalue": "name 'df' is not defined",
     "output_type": "error",
     "traceback": [
      "\u001b[0;31m---------------------------------------------------------------------------\u001b[0m",
      "\u001b[0;31mNameError\u001b[0m                                 Traceback (most recent call last)",
      "\u001b[1;32m/Users/arturfattahov/provider_count/main.ipynb Cell 9'\u001b[0m in \u001b[0;36m<module>\u001b[0;34m\u001b[0m\n\u001b[1;32m     <a href='vscode-notebook-cell:/Users/arturfattahov/provider_count/main.ipynb#ch0000008?line=31'>32</a>\u001b[0m     \u001b[39melse\u001b[39;00m:\n\u001b[1;32m     <a href='vscode-notebook-cell:/Users/arturfattahov/provider_count/main.ipynb#ch0000008?line=32'>33</a>\u001b[0m         \u001b[39mreturn\u001b[39;00m \u001b[39m'\u001b[39m\u001b[39mБолее 55 откликов\u001b[39m\u001b[39m'\u001b[39m\n\u001b[0;32m---> <a href='vscode-notebook-cell:/Users/arturfattahov/provider_count/main.ipynb#ch0000008?line=33'>34</a>\u001b[0m df[\u001b[39m'\u001b[39m\u001b[39mcount_responds\u001b[39m\u001b[39m'\u001b[39m]\u001b[39m.\u001b[39mapply(count_resp)\u001b[39m.\u001b[39mvalue_counts()\n",
      "\u001b[0;31mNameError\u001b[0m: name 'df' is not defined"
     ]
    }
   ],
   "source": [
    "def count_resp(count_responds):\n",
    "    if count_responds < 1:\n",
    "        return '0 откликов'\n",
    "    \n",
    "    elif 1 <= count_responds <= 3:\n",
    "        return 'От 1 до 3 откликов'\n",
    "    \n",
    "    elif 3 < count_responds <= 5:\n",
    "        return 'От 3 до 5 откликов'\n",
    "    \n",
    "    elif 5 < count_responds <= 8:\n",
    "        return 'От 5 до 8 откликов'\n",
    "    \n",
    "    elif 8 < count_responds <= 12:\n",
    "        return 'От 8 до 12 откликов'\n",
    "    \n",
    "    elif 12 < count_responds <= 16:\n",
    "        return 'От 12 до 16 откликов'\n",
    "    \n",
    "    elif 16 < count_responds <= 25:\n",
    "        return 'От 16 до 25 откликов'\n",
    "    \n",
    "    elif 25 < count_responds <= 35:\n",
    "        return 'От 25 до 35 откликов'\n",
    "    \n",
    "    elif 35 < count_responds <= 45:\n",
    "        return 'От 35 до 45 откликов'\n",
    "    \n",
    "    elif 45 < count_responds <= 55:\n",
    "        return 'От 45 до 55 откликов'\n",
    "    \n",
    "    else:\n",
    "        return 'Более 55 откликов'\n",
    "df['count_responds'].apply(count_resp).value_counts()"
   ]
  },
  {
   "cell_type": "code",
   "execution_count": 11,
   "metadata": {},
   "outputs": [],
   "source": [
    "st.write(\"## Прематчи\")"
   ]
  },
  {
   "cell_type": "code",
   "execution_count": 12,
   "metadata": {},
   "outputs": [
    {
     "ename": "NameError",
     "evalue": "name 'df' is not defined",
     "output_type": "error",
     "traceback": [
      "\u001b[0;31m---------------------------------------------------------------------------\u001b[0m",
      "\u001b[0;31mNameError\u001b[0m                                 Traceback (most recent call last)",
      "\u001b[1;32m/Users/arturfattahov/provider_count/main.ipynb Cell 11'\u001b[0m in \u001b[0;36m<module>\u001b[0;34m\u001b[0m\n\u001b[0;32m----> <a href='vscode-notebook-cell:/Users/arturfattahov/provider_count/main.ipynb#ch0000010?line=0'>1</a>\u001b[0m st\u001b[39m.\u001b[39mwrite(\u001b[39m'\u001b[39m\u001b[39mКоличество провайдеров, которые перешли в хотя бы один прематч\u001b[39m\u001b[39m'\u001b[39m, df\u001b[39m.\u001b[39mquery(\u001b[39m'\u001b[39m\u001b[39mcount_pre_matched > 0\u001b[39m\u001b[39m'\u001b[39m)\u001b[39m.\u001b[39mcount()[\u001b[39m0\u001b[39m])\n",
      "\u001b[0;31mNameError\u001b[0m: name 'df' is not defined"
     ]
    }
   ],
   "source": [
    "st.write('Количество провайдеров, которые перешли в хотя бы один прематч', df.query('count_pre_matched > 0').count()[0])"
   ]
  },
  {
   "cell_type": "code",
   "execution_count": 13,
   "metadata": {},
   "outputs": [
    {
     "ename": "NameError",
     "evalue": "name 'df' is not defined",
     "output_type": "error",
     "traceback": [
      "\u001b[0;31m---------------------------------------------------------------------------\u001b[0m",
      "\u001b[0;31mNameError\u001b[0m                                 Traceback (most recent call last)",
      "\u001b[1;32m/Users/arturfattahov/provider_count/main.ipynb Cell 12'\u001b[0m in \u001b[0;36m<module>\u001b[0;34m\u001b[0m\n\u001b[1;32m      <a href='vscode-notebook-cell:/Users/arturfattahov/provider_count/main.ipynb#ch0000011?line=0'>1</a>\u001b[0m st\u001b[39m.\u001b[39mwrite(\u001b[39m'\u001b[39m\u001b[39mПроцент провайдеров, которые перешли в прематч\u001b[39m\u001b[39m'\u001b[39m,\n\u001b[0;32m----> <a href='vscode-notebook-cell:/Users/arturfattahov/provider_count/main.ipynb#ch0000011?line=1'>2</a>\u001b[0m       \u001b[39mround\u001b[39m(df\u001b[39m.\u001b[39mquery(\u001b[39m'\u001b[39m\u001b[39mcount_pre_matched > 0\u001b[39m\u001b[39m'\u001b[39m)\u001b[39m.\u001b[39mcount()[\u001b[39m0\u001b[39m] \u001b[39m*\u001b[39m \u001b[39m100\u001b[39m \u001b[39m/\u001b[39m df\u001b[39m.\u001b[39mquery(\u001b[39m'\u001b[39m\u001b[39mcount_responds > 0\u001b[39m\u001b[39m'\u001b[39m)\u001b[39m.\u001b[39mcount()[\u001b[39m0\u001b[39m], \u001b[39m2\u001b[39m))\n",
      "\u001b[0;31mNameError\u001b[0m: name 'df' is not defined"
     ]
    }
   ],
   "source": [
    "st.write('Процент провайдеров, которые перешли в прематч',\n",
    "      round(df.query('count_pre_matched > 0').count()[0] * 100 / df.query('count_responds > 0').count()[0], 2))"
   ]
  },
  {
   "cell_type": "code",
   "execution_count": 14,
   "metadata": {},
   "outputs": [],
   "source": [
    "st.write(\"## Матчи\")"
   ]
  },
  {
   "cell_type": "code",
   "execution_count": 15,
   "metadata": {},
   "outputs": [
    {
     "ename": "NameError",
     "evalue": "name 'df' is not defined",
     "output_type": "error",
     "traceback": [
      "\u001b[0;31m---------------------------------------------------------------------------\u001b[0m",
      "\u001b[0;31mNameError\u001b[0m                                 Traceback (most recent call last)",
      "\u001b[1;32m/Users/arturfattahov/provider_count/main.ipynb Cell 14'\u001b[0m in \u001b[0;36m<module>\u001b[0;34m\u001b[0m\n\u001b[0;32m----> <a href='vscode-notebook-cell:/Users/arturfattahov/provider_count/main.ipynb#ch0000013?line=0'>1</a>\u001b[0m st\u001b[39m.\u001b[39mwrite(\u001b[39m'\u001b[39m\u001b[39mКоличество провайдеров, которые были выбраны хотя бы один раз\u001b[39m\u001b[39m'\u001b[39m, df\u001b[39m.\u001b[39mquery(\u001b[39m'\u001b[39m\u001b[39mcount_accepted > 0\u001b[39m\u001b[39m'\u001b[39m)\u001b[39m.\u001b[39mcount()[\u001b[39m0\u001b[39m])\n",
      "\u001b[0;31mNameError\u001b[0m: name 'df' is not defined"
     ]
    }
   ],
   "source": [
    "st.write('Количество провайдеров, которые были выбраны хотя бы один раз', df.query('count_accepted > 0').count()[0])"
   ]
  },
  {
   "cell_type": "code",
   "execution_count": 16,
   "metadata": {},
   "outputs": [
    {
     "ename": "NameError",
     "evalue": "name 'df' is not defined",
     "output_type": "error",
     "traceback": [
      "\u001b[0;31m---------------------------------------------------------------------------\u001b[0m",
      "\u001b[0;31mNameError\u001b[0m                                 Traceback (most recent call last)",
      "\u001b[1;32m/Users/arturfattahov/provider_count/main.ipynb Cell 15'\u001b[0m in \u001b[0;36m<module>\u001b[0;34m\u001b[0m\n\u001b[1;32m      <a href='vscode-notebook-cell:/Users/arturfattahov/provider_count/main.ipynb#ch0000014?line=0'>1</a>\u001b[0m st\u001b[39m.\u001b[39mwrite(\u001b[39m'\u001b[39m\u001b[39mПроцент провайдеров, которые перешлои в прематч\u001b[39m\u001b[39m'\u001b[39m,\n\u001b[0;32m----> <a href='vscode-notebook-cell:/Users/arturfattahov/provider_count/main.ipynb#ch0000014?line=1'>2</a>\u001b[0m       \u001b[39mround\u001b[39m(df\u001b[39m.\u001b[39mquery(\u001b[39m'\u001b[39m\u001b[39mcount_accepted > 0\u001b[39m\u001b[39m'\u001b[39m)\u001b[39m.\u001b[39mcount()[\u001b[39m0\u001b[39m] \u001b[39m*\u001b[39m \u001b[39m100\u001b[39m \u001b[39m/\u001b[39m df\u001b[39m.\u001b[39mquery(\u001b[39m'\u001b[39m\u001b[39mcount_pre_matched > 0\u001b[39m\u001b[39m'\u001b[39m)\u001b[39m.\u001b[39mcount()[\u001b[39m0\u001b[39m], \u001b[39m2\u001b[39m))\n",
      "\u001b[0;31mNameError\u001b[0m: name 'df' is not defined"
     ]
    }
   ],
   "source": [
    "st.write('Процент провайдеров, которые перешлои в прематч',\n",
    "      round(df.query('count_accepted > 0').count()[0] * 100 / df.query('count_pre_matched > 0').count()[0], 2))"
   ]
  }
 ],
 "metadata": {
  "interpreter": {
   "hash": "aee8b7b246df8f9039afb4144a1f6fd8d2ca17a180786b69acc140d282b71a49"
  },
  "kernelspec": {
   "display_name": "Python 3.10.4 64-bit",
   "language": "python",
   "name": "python3"
  },
  "language_info": {
   "codemirror_mode": {
    "name": "ipython",
    "version": 3
   },
   "file_extension": ".py",
   "mimetype": "text/x-python",
   "name": "python",
   "nbconvert_exporter": "python",
   "pygments_lexer": "ipython3",
   "version": "3.10.4"
  },
  "orig_nbformat": 4
 },
 "nbformat": 4,
 "nbformat_minor": 2
}
